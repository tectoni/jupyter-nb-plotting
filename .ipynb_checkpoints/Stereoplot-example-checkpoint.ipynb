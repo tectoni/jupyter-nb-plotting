{
 "cells": [
  {
   "cell_type": "markdown",
   "metadata": {},
   "source": [
    "## Basic Step: Load Lambert Datafile and Plot the Measurements in the Stereonet"
   ]
  },
  {
   "cell_type": "markdown",
   "metadata": {},
   "source": [
    "Start with importing all he necessary python modules. The mplstereonet module provides all the functinality to evaluate tectonic data. Numpy is the module for the maths and matplotlib the module for plotting."
   ]
  },
  {
   "cell_type": "code",
   "execution_count": 1,
   "metadata": {},
   "outputs": [
    {
     "ename": "ModuleNotFoundError",
     "evalue": "No module named 'mplstereonet'",
     "output_type": "error",
     "traceback": [
      "\u001b[0;31m---------------------------------------------------------------------------\u001b[0m",
      "\u001b[0;31mModuleNotFoundError\u001b[0m                       Traceback (most recent call last)",
      "\u001b[0;32m/var/folders/2y/94dlgmb53lz4gdgpl10y8t6c0000gn/T/ipykernel_6680/1494276590.py\u001b[0m in \u001b[0;36m<module>\u001b[0;34m\u001b[0m\n\u001b[1;32m      1\u001b[0m \u001b[0;32mimport\u001b[0m \u001b[0mnumpy\u001b[0m \u001b[0;32mas\u001b[0m \u001b[0mnp\u001b[0m\u001b[0;34m\u001b[0m\u001b[0;34m\u001b[0m\u001b[0m\n\u001b[0;32m----> 2\u001b[0;31m \u001b[0;32mimport\u001b[0m \u001b[0mmplstereonet\u001b[0m\u001b[0;34m\u001b[0m\u001b[0;34m\u001b[0m\u001b[0m\n\u001b[0m\u001b[1;32m      3\u001b[0m \u001b[0;32mimport\u001b[0m \u001b[0mmatplotlib\u001b[0m\u001b[0;34m.\u001b[0m\u001b[0mpyplot\u001b[0m \u001b[0;32mas\u001b[0m \u001b[0mplt\u001b[0m\u001b[0;34m\u001b[0m\u001b[0;34m\u001b[0m\u001b[0m\n\u001b[1;32m      4\u001b[0m \u001b[0;32mimport\u001b[0m \u001b[0mpandas\u001b[0m \u001b[0;32mas\u001b[0m \u001b[0mpd\u001b[0m\u001b[0;34m\u001b[0m\u001b[0;34m\u001b[0m\u001b[0m\n\u001b[1;32m      5\u001b[0m \u001b[0mget_ipython\u001b[0m\u001b[0;34m(\u001b[0m\u001b[0;34m)\u001b[0m\u001b[0;34m.\u001b[0m\u001b[0mrun_line_magic\u001b[0m\u001b[0;34m(\u001b[0m\u001b[0;34m'matplotlib'\u001b[0m\u001b[0;34m,\u001b[0m \u001b[0;34m'inline'\u001b[0m\u001b[0;34m)\u001b[0m\u001b[0;34m\u001b[0m\u001b[0;34m\u001b[0m\u001b[0m\n",
      "\u001b[0;31mModuleNotFoundError\u001b[0m: No module named 'mplstereonet'"
     ]
    }
   ],
   "source": [
    "import numpy as np\n",
    "import mplstereonet\n",
    "import matplotlib.pyplot as plt\n",
    "import pandas as pd\n",
    "%matplotlib inline"
   ]
  },
  {
   "cell_type": "markdown",
   "metadata": {},
   "source": [
    "Netx, read in the data file from Lambert. There are many ways to read text files with python. In this example, I use calls to the module pandas, which provides many powerful functions to read and manipulate files.In the example, the data will be stored to the array 'df'. Have a close look at the call to pandas read_csv method. Only 3 data columns will be imported to df: the id, the azimut and the dip values. All data columns can be idetified by their header.\n",
    "And make sure that LambertData.txt is in the working directory. Otherwise, you have to specify the path to the file name."
   ]
  },
  {
   "cell_type": "code",
   "execution_count": null,
   "metadata": {},
   "outputs": [],
   "source": [
    "df = pd.read_csv('LambertData.txt', header = 0,\n",
    "             sep='\\t', usecols=['id','azimut', 'dip'], index_col=0)"
   ]
  },
  {
   "cell_type": "markdown",
   "metadata": {},
   "source": [
    "There is one minor problem, however: the stereonet methodes of mplstereonet need to have the tectonic data as strike/dip but Lambert stores the data as azimut/dip. Therefore, we have to add one more data column to df, which contains the strike data. First, we have to define an empty list (aka array), here called st. Next, we loop the df list and calculate from the individual azimut values the strike values. For this, we use a method provided by mplstereonet, which converts 'dip_direction' (=azimut) to strike. Next, we add this list to df. Print it out to check the data."
   ]
  },
  {
   "cell_type": "code",
   "execution_count": null,
   "metadata": {},
   "outputs": [],
   "source": [
    "st=[]\n",
    "for azimut in df['azimut']:\n",
    "    st.append(mplstereonet.utilities.dip_direction2strike(azimut))\n",
    "\n",
    "df['strike'] = st  \n",
    "print(df['strike'])"
   ]
  },
  {
   "cell_type": "markdown",
   "metadata": {},
   "source": [
    "We are now ready to plot the stereonet with our measurements."
   ]
  },
  {
   "cell_type": "code",
   "execution_count": null,
   "metadata": {},
   "outputs": [],
   "source": [
    "fig = plt.figure(figsize=(6,6))\n",
    "ax = fig.add_subplot(111, projection='stereonet')\n",
    "ax.plane(df['strike'], df['dip'], c='g');"
   ]
  },
  {
   "cell_type": "code",
   "execution_count": null,
   "metadata": {},
   "outputs": [],
   "source": [
    "strike1, dip1 = 10, 30\n",
    "strike2, dip2 = 315, 78"
   ]
  },
  {
   "cell_type": "code",
   "execution_count": null,
   "metadata": {},
   "outputs": [],
   "source": [
    "fig = plt.figure(figsize=(8,8))\n",
    "ax = fig.add_subplot(111, projection='stereonet')\n",
    "ax.plane(strike1, dip1, c='b', label='Bedding %03d/%02d' % (strike1, dip1))\n",
    "ax.plane(strike2, dip2, c='r', label='Fault %03d/%02d' % (strike2, dip2))\n",
    "ax.legend()\n",
    "ax.grid()"
   ]
  },
  {
   "cell_type": "code",
   "execution_count": null,
   "metadata": {},
   "outputs": [],
   "source": [
    "fold_measurements = '''\n",
    "    N 85 E, 12 N\n",
    "    N 70 E, 27 NW\n",
    "    N 66 E, 40 NW\n",
    "    N 47 E, 53 SE\n",
    "    N 33 E, 30 SE\n",
    "    N 23 E, 29 E\n",
    "'''"
   ]
  },
  {
   "cell_type": "code",
   "execution_count": null,
   "metadata": {},
   "outputs": [],
   "source": [
    "strikes, dips = zip(*[mplstereonet.utilities.parse_strike_dip(*s.strip().split(', ')) \n",
    "                      for s in fold_measurements.split('\\n') if s])\n",
    "\n",
    "strikes, dips"
   ]
  },
  {
   "cell_type": "code",
   "execution_count": null,
   "metadata": {},
   "outputs": [],
   "source": [
    "from collections import OrderedDict\n",
    "\n",
    "fig = plt.figure(figsize=(10,5))\n",
    "\n",
    "# Method 1\n",
    "\n",
    "ax = fig.add_subplot(121, projection='stereonet')\n",
    "ax.plane(strikes, dips, c='k', label='Planes (Fold Limbs)')\n",
    "strike, dip = mplstereonet.fit_girdle(strikes, dips)\n",
    "ax.pole(strike, dip, c='r', label='Beta axis (Intersection of Planes)')\n",
    "\n",
    "# Method 2\n",
    "\n",
    "ax = fig.add_subplot(122, projection='stereonet')\n",
    "ax.pole(strikes, dips, c='k', label='Poles (Fold Limbs)')\n",
    "ax.plane(strike, dip, c='g', label='Fitted GC')\n",
    "ax.pole(strike, dip, c='r', label='Beta axis (Pole of GC)')\n",
    "\n",
    "for ax, title in zip(fig.axes[1::2], ['Beta diagram', 'S-pole diagram']):\n",
    "    ax.set_title(title, y=1.10, fontsize=15)\n",
    "    ax.grid()\n",
    "\n",
    "    # This will avoid repetition in the legend:\n",
    "    handles, labels = ax.get_legend_handles_labels()\n",
    "    by_label = OrderedDict(zip(labels, handles))\n",
    "\n",
    "    ax.legend(by_label.values(), by_label.keys(), loc='upper left')\n"
   ]
  },
  {
   "cell_type": "code",
   "execution_count": null,
   "metadata": {},
   "outputs": [],
   "source": []
  },
  {
   "cell_type": "code",
   "execution_count": null,
   "metadata": {},
   "outputs": [],
   "source": []
  },
  {
   "cell_type": "code",
   "execution_count": null,
   "metadata": {},
   "outputs": [],
   "source": [
    "dir(mplstereonet.stereonet_math)"
   ]
  },
  {
   "cell_type": "code",
   "execution_count": null,
   "metadata": {},
   "outputs": [],
   "source": []
  }
 ],
 "metadata": {
  "kernelspec": {
   "display_name": "Python 3",
   "language": "python",
   "name": "python3"
  },
  "language_info": {
   "codemirror_mode": {
    "name": "ipython",
    "version": 3
   },
   "file_extension": ".py",
   "mimetype": "text/x-python",
   "name": "python",
   "nbconvert_exporter": "python",
   "pygments_lexer": "ipython3",
   "version": "3.8.12"
  }
 },
 "nbformat": 4,
 "nbformat_minor": 2
}
