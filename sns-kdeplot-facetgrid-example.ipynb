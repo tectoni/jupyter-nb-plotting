{
 "cells": [
  {
   "cell_type": "code",
   "execution_count": 23,
   "id": "b91628da",
   "metadata": {},
   "outputs": [
    {
     "name": "stdout",
     "output_type": "stream",
     "text": [
      "['A' 'B' 'C' 'D' 'E' 'F' 'G' 'H' 'I' 'J' 'A' 'B' 'C' 'D' 'E' 'F' 'G' 'H'\n",
      " 'I' 'J' 'A' 'B' 'C' 'D' 'E' 'F' 'G' 'H' 'I' 'J' 'A' 'B' 'C' 'D' 'E' 'F'\n",
      " 'G' 'H' 'I' 'J' 'A' 'B' 'C' 'D' 'E' 'F' 'G' 'H' 'I' 'J' 'A' 'B' 'C' 'D'\n",
      " 'E' 'F' 'G' 'H' 'I' 'J' 'A' 'B' 'C' 'D' 'E' 'F' 'G' 'H' 'I' 'J' 'A' 'B'\n",
      " 'C' 'D' 'E' 'F' 'G' 'H' 'I' 'J' 'A' 'B' 'C' 'D' 'E' 'F' 'G' 'H' 'I' 'J'\n",
      " 'A' 'B' 'C' 'D' 'E' 'F' 'G' 'H' 'I' 'J' 'A' 'B' 'C' 'D' 'E' 'F' 'G' 'H'\n",
      " 'I' 'J' 'A' 'B' 'C' 'D' 'E' 'F' 'G' 'H' 'I' 'J' 'A' 'B' 'C' 'D' 'E' 'F'\n",
      " 'G' 'H' 'I' 'J' 'A' 'B' 'C' 'D' 'E' 'F' 'G' 'H' 'I' 'J' 'A' 'B' 'C' 'D'\n",
      " 'E' 'F' 'G' 'H' 'I' 'J' 'A' 'B' 'C' 'D' 'E' 'F' 'G' 'H' 'I' 'J' 'A' 'B'\n",
      " 'C' 'D' 'E' 'F' 'G' 'H' 'I' 'J' 'A' 'B' 'C' 'D' 'E' 'F' 'G' 'H' 'I' 'J'\n",
      " 'A' 'B' 'C' 'D' 'E' 'F' 'G' 'H' 'I' 'J' 'A' 'B' 'C' 'D' 'E' 'F' 'G' 'H'\n",
      " 'I' 'J' 'A' 'B' 'C' 'D' 'E' 'F' 'G' 'H' 'I' 'J' 'A' 'B' 'C' 'D' 'E' 'F'\n",
      " 'G' 'H' 'I' 'J' 'A' 'B' 'C' 'D' 'E' 'F' 'G' 'H' 'I' 'J' 'A' 'B' 'C' 'D'\n",
      " 'E' 'F' 'G' 'H' 'I' 'J' 'A' 'B' 'C' 'D' 'E' 'F' 'G' 'H' 'I' 'J' 'A' 'B'\n",
      " 'C' 'D' 'E' 'F' 'G' 'H' 'I' 'J' 'A' 'B' 'C' 'D' 'E' 'F' 'G' 'H' 'I' 'J'\n",
      " 'A' 'B' 'C' 'D' 'E' 'F' 'G' 'H' 'I' 'J' 'A' 'B' 'C' 'D' 'E' 'F' 'G' 'H'\n",
      " 'I' 'J' 'A' 'B' 'C' 'D' 'E' 'F' 'G' 'H' 'I' 'J' 'A' 'B' 'C' 'D' 'E' 'F'\n",
      " 'G' 'H' 'I' 'J' 'A' 'B' 'C' 'D' 'E' 'F' 'G' 'H' 'I' 'J' 'A' 'B' 'C' 'D'\n",
      " 'E' 'F' 'G' 'H' 'I' 'J' 'A' 'B' 'C' 'D' 'E' 'F' 'G' 'H' 'I' 'J' 'A' 'B'\n",
      " 'C' 'D' 'E' 'F' 'G' 'H' 'I' 'J' 'A' 'B' 'C' 'D' 'E' 'F' 'G' 'H' 'I' 'J'\n",
      " 'A' 'B' 'C' 'D' 'E' 'F' 'G' 'H' 'I' 'J' 'A' 'B' 'C' 'D' 'E' 'F' 'G' 'H'\n",
      " 'I' 'J' 'A' 'B' 'C' 'D' 'E' 'F' 'G' 'H' 'I' 'J' 'A' 'B' 'C' 'D' 'E' 'F'\n",
      " 'G' 'H' 'I' 'J' 'A' 'B' 'C' 'D' 'E' 'F' 'G' 'H' 'I' 'J' 'A' 'B' 'C' 'D'\n",
      " 'E' 'F' 'G' 'H' 'I' 'J' 'A' 'B' 'C' 'D' 'E' 'F' 'G' 'H' 'I' 'J' 'A' 'B'\n",
      " 'C' 'D' 'E' 'F' 'G' 'H' 'I' 'J' 'A' 'B' 'C' 'D' 'E' 'F' 'G' 'H' 'I' 'J'\n",
      " 'A' 'B' 'C' 'D' 'E' 'F' 'G' 'H' 'I' 'J' 'A' 'B' 'C' 'D' 'E' 'F' 'G' 'H'\n",
      " 'I' 'J' 'A' 'B' 'C' 'D' 'E' 'F' 'G' 'H' 'I' 'J' 'A' 'B' 'C' 'D' 'E' 'F'\n",
      " 'G' 'H' 'I' 'J' 'A' 'B' 'C' 'D' 'E' 'F' 'G' 'H' 'I' 'J']\n",
      "            x  g\n",
      "0   -0.961877  A\n",
      "1    0.147050  B\n",
      "2   -0.629989  C\n",
      "3    0.791019  D\n",
      "4    1.583534  E\n",
      "..        ... ..\n",
      "495 -0.641978  F\n",
      "496  1.212877  G\n",
      "497 -1.525753  H\n",
      "498  0.251022  I\n",
      "499  0.461828  J\n",
      "\n",
      "[500 rows x 2 columns]\n",
      "             x  g\n",
      "0    64.038123  A\n",
      "1    66.147050  B\n",
      "2    66.370011  C\n",
      "3    68.791019  D\n",
      "4    70.583534  E\n",
      "..         ... ..\n",
      "495  69.358022  F\n",
      "496  72.212877  G\n",
      "497  70.474247  H\n",
      "498  73.251022  I\n",
      "499  74.461828  J\n",
      "\n",
      "[500 rows x 2 columns]\n"
     ]
    },
    {
     "name": "stderr",
     "output_type": "stream",
     "text": [
      "/Users/pappel/opt/anaconda3/lib/python3.8/site-packages/seaborn/axisgrid.py:88: UserWarning: Tight layout not applied. tight_layout cannot make axes height small enough to accommodate all axes decorations\n",
      "  self._figure.tight_layout(*args, **kwargs)\n",
      "/Users/pappel/opt/anaconda3/lib/python3.8/site-packages/seaborn/axisgrid.py:88: UserWarning: Tight layout not applied. tight_layout cannot make axes height small enough to accommodate all axes decorations\n",
      "  self._figure.tight_layout(*args, **kwargs)\n"
     ]
    },
    {
     "data": {
      "text/plain": [
       "<seaborn.axisgrid.FacetGrid at 0x7ff4799506d0>"
      ]
     },
     "execution_count": 23,
     "metadata": {},
     "output_type": "execute_result"
    },
    {
     "data": {
      "image/png": "[encoded data removed]",
      "text/plain": [
       "<Figure size 540x360 with 10 Axes>"
      ]
     },
     "metadata": {},
     "output_type": "display_data"
    }
   ],
   "source": [
    "import numpy as np\n",
    "import pandas as pd\n",
    "import seaborn as sns\n",
    "import matplotlib.pyplot as plt\n",
    "sns.set_theme(style=\"white\", rc={\"axes.facecolor\": (0, 0, 0, 0)})\n",
    "\n",
    "# Create the data\n",
    "rs = np.random.RandomState(1979)\n",
    "x = rs.randn(500)\n",
    "g = np.tile(list(\"ABCDEFGHIJ\"), 50)\n",
    "print(g)\n",
    "df = pd.DataFrame(dict(x=x, g=g))\n",
    "print(df)\n",
    "m = df.g.map(ord)\n",
    "df[\"x\"] += m\n",
    "print(df)\n",
    "\n",
    "\n",
    "# Initialize the FacetGrid object\n",
    "pal = sns.cubehelix_palette(10, rot=-.15, light=.8)\n",
    "g = sns.FacetGrid(df, row=\"g\", hue=\"g\", aspect=15, height=.5, palette=pal)\n",
    "\n",
    "# Draw the densities in a few steps\n",
    "g.map(sns.kdeplot, \"x\",\n",
    "      bw_adjust=.5, clip_on=False,\n",
    "      fill=True, alpha=1, linewidth=1.)\n",
    "g.map(sns.kdeplot, \"x\", clip_on=False, color=\"w\", lw=1, bw_adjust=.5)\n",
    "\n",
    "# passing color=None to refline() uses the hue mapping\n",
    "g.refline(y=0, linewidth=2, linestyle=\"-\", color=None, clip_on=False)\n",
    "\n",
    "\n",
    "# Define and use a simple function to label the plot in axes coordinates\n",
    "def label(x, color, label):\n",
    "    ax = plt.gca()\n",
    "    ax.text(0, .2, label, fontweight=\"bold\", color=color,\n",
    "            ha=\"left\", va=\"center\", transform=ax.transAxes)\n",
    "\n",
    "\n",
    "g.map(label, \"x\")\n",
    "\n",
    "# Set the subplots to overlap\n",
    "g.figure.subplots_adjust(hspace=-.25)\n",
    "\n",
    "# Remove axes details that don't play well with overlap\n",
    "g.set_titles(\"\")\n",
    "g.set(yticks=[], ylabel=\"\")\n",
    "g.despine(bottom=True, left=True)"
   ]
  },
  {
   "cell_type": "code",
   "execution_count": null,
   "id": "0da778a3",
   "metadata": {},
   "outputs": [],
   "source": []
  },
  {
   "cell_type": "code",
   "execution_count": null,
   "id": "1adf36ae",
   "metadata": {},
   "outputs": [],
   "source": []
  }
 ],
 "metadata": {
  "kernelspec": {
   "display_name": "Python 3",
   "language": "python",
   "name": "python3"
  },
  "language_info": {
   "codemirror_mode": {
    "name": "ipython",
    "version": 3
   },
   "file_extension": ".py",
   "mimetype": "text/x-python",
   "name": "python",
   "nbconvert_exporter": "python",
   "pygments_lexer": "ipython3",
   "version": "3.8.12"
  }
 },
 "nbformat": 4,
 "nbformat_minor": 5
}
